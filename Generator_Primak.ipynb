{
 "cells": [
  {
   "cell_type": "code",
   "execution_count": 2,
   "metadata": {},
   "outputs": [],
   "source": [
    "from Bio import SeqIO\n",
    "\n",
    "# translation tables codes - https://www.ncbi.nlm.nih.gov/Taxonomy/Utils/wprintgc.cgi\n",
    "def read_and_translate(path, tableCode=1):\n",
    "  for seq_record in SeqIO.parse(path, \"fasta\"):\n",
    "    yield seq_record.translate(table=tableCode).seq\n",
    "\n",
    "# example of usage\n",
    "for translated in read_and_translate('genome.fa'):\n",
    "  print(translated)"
   ]
  },
  {
   "cell_type": "code",
   "execution_count": 3,
   "metadata": {},
   "outputs": [
    {
     "data": {
      "text/plain": [
       "['A',\n",
       " 'C',\n",
       " 'G',\n",
       " 'T',\n",
       " 'AA',\n",
       " 'AC',\n",
       " 'AG',\n",
       " 'AT',\n",
       " 'CA',\n",
       " 'CC',\n",
       " 'CG',\n",
       " 'CT',\n",
       " 'GA',\n",
       " 'GC',\n",
       " 'GG',\n",
       " 'GT',\n",
       " 'TA',\n",
       " 'TC',\n",
       " 'TG',\n",
       " 'TT']"
      ]
     },
     "execution_count": 3,
     "metadata": {},
     "output_type": "execute_result"
    }
   ],
   "source": [
    "def generate(n):\n",
    "  nucleotides = ['A', 'C', 'G', 'T']\n",
    "  last_generated = ['A', 'C', 'G', 'T']\n",
    "  for i in range(n):\n",
    "    for nucleo in last_generated:\n",
    "      yield nucleo\n",
    "\n",
    "    new_last_generated = []\n",
    "\n",
    "    for prev_generated in last_generated:\n",
    "      for nucleo in nucleotides:\n",
    "        new_last_generated.append(prev_generated + nucleo)\n",
    "    last_generated = new_last_generated\n",
    "    \n",
    "list(generate(2))"
   ]
  }
 ],
 "metadata": {
  "kernelspec": {
   "display_name": "Python 3",
   "language": "python",
   "name": "python3"
  },
  "language_info": {
   "codemirror_mode": {
    "name": "ipython",
    "version": 3
   },
   "file_extension": ".py",
   "mimetype": "text/x-python",
   "name": "python",
   "nbconvert_exporter": "python",
   "pygments_lexer": "ipython3",
   "version": "3.8.5"
  }
 },
 "nbformat": 4,
 "nbformat_minor": 4
}
